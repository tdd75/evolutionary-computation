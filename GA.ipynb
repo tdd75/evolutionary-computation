{
 "cells": [
  {
   "cell_type": "code",
   "execution_count": 1,
   "metadata": {},
   "outputs": [],
   "source": [
    "import numpy as np\n",
    "import random\n",
    "\n",
    "from models.coordinate import Coordinate\n",
    "import config\n",
    "import matplotlib.pyplot as plt\n",
    "from tqdm import tqdm\n"
   ]
  },
  {
   "cell_type": "code",
   "execution_count": 2,
   "metadata": {},
   "outputs": [
    {
     "name": "stdout",
     "output_type": "stream",
     "text": [
      "[None, Coordinate(x=37, y=52), Coordinate(x=49, y=49), Coordinate(x=52, y=64), Coordinate(x=20, y=26), Coordinate(x=40, y=30), Coordinate(x=21, y=47), Coordinate(x=17, y=63), Coordinate(x=31, y=62), Coordinate(x=52, y=33), Coordinate(x=51, y=21), Coordinate(x=42, y=41), Coordinate(x=31, y=32), Coordinate(x=5, y=25), Coordinate(x=12, y=42), Coordinate(x=36, y=16), Coordinate(x=52, y=41), Coordinate(x=27, y=23), Coordinate(x=17, y=33), Coordinate(x=13, y=13), Coordinate(x=57, y=58), Coordinate(x=62, y=42), Coordinate(x=42, y=57), Coordinate(x=16, y=57), Coordinate(x=8, y=52), Coordinate(x=7, y=38), Coordinate(x=27, y=68), Coordinate(x=30, y=48), Coordinate(x=43, y=67), Coordinate(x=58, y=48), Coordinate(x=58, y=27), Coordinate(x=37, y=69), Coordinate(x=38, y=46), Coordinate(x=46, y=10), Coordinate(x=61, y=33), Coordinate(x=62, y=63), Coordinate(x=63, y=69), Coordinate(x=32, y=22), Coordinate(x=45, y=35), Coordinate(x=59, y=15), Coordinate(x=5, y=6), Coordinate(x=10, y=17), Coordinate(x=21, y=10), Coordinate(x=5, y=64), Coordinate(x=30, y=15), Coordinate(x=39, y=10), Coordinate(x=32, y=39), Coordinate(x=25, y=32), Coordinate(x=25, y=55), Coordinate(x=48, y=28), Coordinate(x=56, y=37), Coordinate(x=30, y=40)] 51\n"
     ]
    }
   ],
   "source": [
    "def read_data(file_path):\n",
    "    list_cities = [None]\n",
    "\n",
    "    with open(file_path, 'r') as f:\n",
    "        data = f.readlines()\n",
    "        NUMBER_CITIES = int(data[3].split(':')[-1].strip())\n",
    "\n",
    "        for line in data[6: 6 + NUMBER_CITIES]:\n",
    "            _, x, y = list(map(int, line.split()))\n",
    "            list_cities.append(Coordinate(x, y))\n",
    "\n",
    "    return list_cities, NUMBER_CITIES\n",
    "\n",
    "\n",
    "list_cities, NUMBER_CITIES = read_data(config.DATA_PATH)\n",
    "print(list_cities, NUMBER_CITIES)\n"
   ]
  },
  {
   "cell_type": "code",
   "execution_count": 3,
   "metadata": {},
   "outputs": [],
   "source": [
    "def init_population():\n",
    "    population = [None]\n",
    "\n",
    "    for _ in range(1, config.POPULATION_SIZE + 1):\n",
    "        while True:\n",
    "            individual = random.sample(\n",
    "                range(1, NUMBER_CITIES + 1), NUMBER_CITIES)\n",
    "            if individual not in population:\n",
    "                population.append(individual)\n",
    "                break\n",
    "        \n",
    "    return population\n",
    "\n",
    "\n",
    "population = init_population()\n"
   ]
  },
  {
   "cell_type": "code",
   "execution_count": 4,
   "metadata": {},
   "outputs": [],
   "source": [
    "def euclidean_distance(index_city1, index_city2):\n",
    "    return np.linalg.norm((list_cities[index_city1].x - list_cities[index_city2].x,\n",
    "                           list_cities[index_city1].y - list_cities[index_city2].y))\n",
    "\n",
    "\n",
    "def cost(individual):\n",
    "    c = 0\n",
    "\n",
    "    for i in range(len(individual) - 1):\n",
    "        c += euclidean_distance(individual[i], individual[i+1])\n",
    "    # Last city with first city\n",
    "    c += euclidean_distance(individual[-1], individual[0])\n",
    "    \n",
    "    return c\n",
    "\n",
    "def find_best(population):\n",
    "    assert population[0] == None\n",
    "            \n",
    "    best_individual = population[1]\n",
    "    best_cost = cost(population[1])\n",
    "\n",
    "    for individual in population[2:]:\n",
    "        tmp_cost = cost(individual)\n",
    "        if tmp_cost < best_cost:\n",
    "            best_individual = individual\n",
    "            best_cost = tmp_cost\n",
    "    with open('matrix.txt', 'a') as f:\n",
    "        f.write(f'{best_individual} {best_cost}\\n')\n",
    "    return best_individual, best_cost\n"
   ]
  },
  {
   "cell_type": "code",
   "execution_count": 5,
   "metadata": {},
   "outputs": [],
   "source": [
    "def select_parents(population):\n",
    "    list_idx = list(range(1, len(population)))\n",
    "    random.shuffle(list_idx)\n",
    "\n",
    "    candidates = [population[idx] for idx in list_idx[:4]]\n",
    "\n",
    "    return (candidates[0] if cost(candidates[0]) < cost(candidates[1]) else candidates[1],\n",
    "            candidates[2] if cost(candidates[2]) < cost(candidates[3]) else candidates[3])\n",
    "\n",
    "\n",
    "def exec_cross(parent1, parent2, pos1, pos2):\n",
    "    child = parent1[pos1: pos2 + 1]\n",
    "    tmp = []\n",
    "    for i in range(pos2 + 1, pos2 + 1 + len(parent2)):\n",
    "        if i >= len(parent2):\n",
    "            i %= len(parent2)\n",
    "        if parent2[i] not in child:\n",
    "            tmp.append(parent2[i])\n",
    "\n",
    "    return (tmp[-pos1:] if pos1 != 0 else []) + child + tmp[:len(tmp) - pos1]\n",
    "\n",
    "\n",
    "def crossover(parents):\n",
    "    if random.random() < config.P_CROSSOVER:\n",
    "        pos1, pos2 = tuple(random.sample(range(len(parents[0])), 2))\n",
    "        if pos1 > pos2:\n",
    "            tmp = pos1\n",
    "            pos1 = pos2\n",
    "            pos2 = tmp\n",
    "\n",
    "        children = []\n",
    "\n",
    "        children.append(exec_cross(parents[0], parents[1], pos1, pos2))\n",
    "        children.append(exec_cross(parents[1], parents[0], pos1, pos2))\n",
    "\n",
    "        return tuple(children)\n",
    "\n",
    "    return None, None\n",
    "\n",
    "\n",
    "def mutation(parents):\n",
    "    if random.random() < config.P_MUTATION:\n",
    "        children = []\n",
    "        for parent in parents:\n",
    "            pos1, pos2 = tuple(random.sample(range(len(parent)), 2))\n",
    "            if pos1 > pos2:\n",
    "                tmp = pos1\n",
    "                pos1 = pos2\n",
    "                pos2 = tmp\n",
    "\n",
    "            parent[pos1], parent[pos2] = parent[pos2], parent[pos1]\n",
    "            children.append(parent)\n",
    "        return tuple(children)\n",
    "\n",
    "    return None, None\n",
    "\n",
    "\n",
    "def gen_offspring(population):\n",
    "    offspring = [None]\n",
    "\n",
    "    while len(offspring) < len(population):\n",
    "        parents = select_parents(population)\n",
    "        # print(parents)\n",
    "\n",
    "        children_cross = crossover(parents)\n",
    "        if children_cross != (None, None):\n",
    "            for child in children_cross:\n",
    "                offspring.append(child)\n",
    "            # Mutation if only crossover\n",
    "            children_multa = mutation(children_cross)\n",
    "            if children_multa != (None, None):\n",
    "                for child in children_multa:\n",
    "                    offspring.append(child)\n",
    "\n",
    "    assert len(offspring) >= len(population)\n",
    "    random_index_remove = random.randint(1, len(offspring) - 1)\n",
    "    offspring[random_index_remove] = find_best(population)[0]\n",
    "\n",
    "    return offspring\n"
   ]
  },
  {
   "cell_type": "code",
   "execution_count": 6,
   "metadata": {},
   "outputs": [
    {
     "name": "stderr",
     "output_type": "stream",
     "text": [
      "100%|██████████| 100/100 [00:04<00:00, 23.93it/s]\n"
     ]
    }
   ],
   "source": [
    "history = [None]\n",
    "\n",
    "for i in tqdm(range(config.NUM_GENERATIONS)):\n",
    "    history.append(find_best(population))\n",
    "    offspring = gen_offspring(population)\n",
    "    population = offspring\n"
   ]
  },
  {
   "cell_type": "code",
   "execution_count": 7,
   "metadata": {},
   "outputs": [
    {
     "data": {
      "image/png": "[encoded data removed]",
      "text/plain": [
       "<Figure size 432x288 with 1 Axes>"
      ]
     },
     "metadata": {
      "needs_background": "light"
     },
     "output_type": "display_data"
    }
   ],
   "source": [
    "plt.title(\"Line graph\")\n",
    "plt.xlabel(\"X axis\")\n",
    "plt.ylabel(\"Y axis\")\n",
    "plt.plot(range(1, len(history)), list(map(lambda x: x[1], history[1:])), color =\"red\")\n",
    "plt.show()"
   ]
  }
 ],
 "metadata": {
  "interpreter": {
   "hash": "be7f01ca94a2d2321f9cc1d69540f1bdc7f11a874239ebde41d5522883684562"
  },
  "kernelspec": {
   "display_name": "Python 3.8.10 64-bit",
   "language": "python",
   "name": "python3"
  },
  "language_info": {
   "codemirror_mode": {
    "name": "ipython",
    "version": 3
   },
   "file_extension": ".py",
   "mimetype": "text/x-python",
   "name": "python",
   "nbconvert_exporter": "python",
   "pygments_lexer": "ipython3",
   "version": "3.8.10"
  },
  "orig_nbformat": 4
 },
 "nbformat": 4,
 "nbformat_minor": 2
}
