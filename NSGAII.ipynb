{
 "cells": [
  {
   "cell_type": "code",
   "execution_count": null,
   "metadata": {},
   "outputs": [],
   "source": [
    "import numpy as np\n",
    "import random\n",
    "import matplotlib.pyplot as plt\n",
    "from tqdm import tqdm\n",
    "\n",
    "import config_NSGAII as config\n",
    "from models.coordinate import Coordinate\n"
   ]
  },
  {
   "cell_type": "code",
   "execution_count": null,
   "metadata": {},
   "outputs": [],
   "source": [
    "def read_data(file_path):\n",
    "    DISTANCE_MATRIX = [None]\n",
    "\n",
    "    with open(file_path, 'r') as f:\n",
    "        data = f.readlines()\n",
    "\n",
    "        for idx, line in enumerate(data):\n",
    "            line.split()\n",
    "\n",
    "\n",
    "read_data(config.DATA_DISTANCE)\n",
    "# read_data(config.DATA_COST)\n",
    "# list_cities2, NUMBER_CITIES2 = read_data(config.DATA_PATH2)\n",
    "# print(list_cities1, NUMBER_CITIES1)\n",
    "# print(list_cities2, NUMBER_CITIES2)\n"
   ]
  },
  {
   "cell_type": "code",
   "execution_count": null,
   "metadata": {},
   "outputs": [],
   "source": []
  }
 ],
 "metadata": {
  "interpreter": {
   "hash": "be7f01ca94a2d2321f9cc1d69540f1bdc7f11a874239ebde41d5522883684562"
  },
  "kernelspec": {
   "display_name": "Python 3.8.10 64-bit",
   "language": "python",
   "name": "python3"
  },
  "language_info": {
   "codemirror_mode": {
    "name": "ipython",
    "version": 3
   },
   "file_extension": ".py",
   "mimetype": "text/x-python",
   "name": "python",
   "nbconvert_exporter": "python",
   "pygments_lexer": "ipython3",
   "version": "3.8.10"
  },
  "orig_nbformat": 4
 },
 "nbformat": 4,
 "nbformat_minor": 2
}
